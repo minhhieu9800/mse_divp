{
  "nbformat": 4,
  "nbformat_minor": 0,
  "metadata": {
    "colab": {
      "provenance": [],
      "authorship_tag": "ABX9TyMYEYkPdpZXTUpjfeAk/gKn",
      "include_colab_link": true
    },
    "kernelspec": {
      "name": "python3",
      "display_name": "Python 3"
    },
    "language_info": {
      "name": "python"
    }
  },
  "cells": [
    {
      "cell_type": "markdown",
      "metadata": {
        "id": "view-in-github",
        "colab_type": "text"
      },
      "source": [
        "<a href=\"https://colab.research.google.com/github/minhhieu9800/mse_divp/blob/main/L5_2_Image_Comparison.ipynb\" target=\"_parent\"><img src=\"https://colab.research.google.com/assets/colab-badge.svg\" alt=\"Open In Colab\"/></a>"
      ]
    },
    {
      "cell_type": "markdown",
      "source": [
        "Họ tên: Nguyễn Minh Hiếu </br>\n",
        "Mã học viên: 22MSE23062 </br>\n",
        "Email: hieu22mse23062@fsb.edu.vn"
      ],
      "metadata": {
        "id": "VvQaHB8XzuMd"
      }
    },
    {
      "cell_type": "markdown",
      "source": [
        "L5_2_Image_Comparison"
      ],
      "metadata": {
        "id": "7YHdPiATzy-K"
      }
    },
    {
      "cell_type": "code",
      "execution_count": 1,
      "metadata": {
        "colab": {
          "base_uri": "https://localhost:8080/",
          "height": 529
        },
        "id": "cM8cEKqyTCyV",
        "outputId": "cb6240f4-9009-44b7-a6c4-6618d28b2472"
      },
      "outputs": [
        {
          "output_type": "display_data",
          "data": {
            "text/plain": [
              "<PIL.Image.Image image mode=L size=512x512 at 0x7F63EAA3B100>"
            ],
            "image/png": "[encoded data removed]"
          },
          "metadata": {}
        }
      ],
      "source": [
        "import cv2\n",
        "from google.colab.patches import cv2_imshow\n",
        "import numpy as np\n",
        "from skimage import io\n",
        "\n",
        "# load test images\n",
        "maskImg1 = io.imread('https://minhhieu9800.github.io/mse_divp/day_3/mask1.png')\n",
        "maskImg2 = io.imread('https://minhhieu9800.github.io/mse_divp/day_3/mask2.png')\n",
        "\n",
        "# convert to float and scale to [0, 1]\n",
        "maskImg1 = maskImg1.astype(float) / 255.0\n",
        "maskImg2 = maskImg2.astype(float) / 255.0\n",
        "\n",
        "# perform image subtraction and comparison\n",
        "diffImg = np.abs(maskImg1 - maskImg2)\n",
        "cv2_imshow(diffImg * 255)\n",
        "cv2.waitKey(0)\n",
        "\n",
        "# save image\n",
        "cv2.imwrite('Mask_Compasion_diff.png', diffImg * 255)\n",
        "cv2.destroyAllWindows()"
      ]
    },
    {
      "cell_type": "markdown",
      "source": [],
      "metadata": {
        "id": "2gYNu5LHztQa"
      }
    }
  ]
}